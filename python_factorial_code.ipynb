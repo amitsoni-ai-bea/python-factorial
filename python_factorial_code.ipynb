{
  "nbformat": 4,
  "nbformat_minor": 0,
  "metadata": {
    "colab": {
      "name": "python factorial code.ipynb",
      "version": "0.3.2",
      "provenance": [],
      "collapsed_sections": [],
      "include_colab_link": true
    },
    "kernelspec": {
      "name": "python3",
      "display_name": "Python 3"
    }
  },
  "cells": [
    {
      "cell_type": "markdown",
      "metadata": {
        "id": "view-in-github",
        "colab_type": "text"
      },
      "source": [
        "<a href=\"https://colab.research.google.com/github/amitsoni-ai-bea/python-factorial/blob/master/python_factorial_code.ipynb\" target=\"_parent\"><img src=\"https://colab.research.google.com/assets/colab-badge.svg\" alt=\"Open In Colab\"/></a>"
      ]
    },
    {
      "cell_type": "code",
      "metadata": {
        "id": "iOhOdAENEwQV",
        "colab_type": "code",
        "outputId": "50bd2e96-3734-4ab5-fe44-e439a5eecfe4",
        "colab": {
          "base_uri": "https://localhost:8080/",
          "height": 187
        }
      },
      "source": [
        "count=1 #square of a number\n",
        "while (count<=10):\n",
        "  sqr = count * count\n",
        "  count= count+1\n",
        "  print (sqr)\n",
        "  "
      ],
      "execution_count": 0,
      "outputs": [
        {
          "output_type": "stream",
          "text": [
            "1\n",
            "4\n",
            "9\n",
            "16\n",
            "25\n",
            "36\n",
            "49\n",
            "64\n",
            "81\n",
            "100\n"
          ],
          "name": "stdout"
        }
      ]
    },
    {
      "cell_type": "code",
      "metadata": {
        "id": "CUgvmaJCHBdT",
        "colab_type": "code",
        "outputId": "a8e147d7-c4aa-499a-8e28-639bff081bde",
        "colab": {
          "base_uri": "https://localhost:8080/",
          "height": 34
        }
      },
      "source": [
        "fact = 4 #factorial\n",
        "tot =1\n",
        "\n",
        "while (fact>0):\n",
        "  tot = tot*fact\n",
        "  fact = fact-1\n",
        "print(tot)"
      ],
      "execution_count": 0,
      "outputs": [
        {
          "output_type": "stream",
          "text": [
            "24\n"
          ],
          "name": "stdout"
        }
      ]
    },
    {
      "cell_type": "code",
      "metadata": {
        "id": "-7gAx18FRO8A",
        "colab_type": "code",
        "outputId": "1b599804-0eac-4b1c-fcc3-8e4bb8935310",
        "colab": {
          "base_uri": "https://localhost:8080/",
          "height": 51
        }
      },
      "source": [
        "fact = int(input(\"Enter Number to count factorial\"))\n",
        "tot=1\n",
        "if(fact>0):\n",
        "  while(fact>0):\n",
        "    tot = tot*fact\n",
        "    fact = fact - 1\n",
        "  print(tot)\n",
        "else:\n",
        "  print(\"The factorial dosen't exit\")"
      ],
      "execution_count": 0,
      "outputs": [
        {
          "output_type": "stream",
          "text": [
            "Enter Number to count factorial10\n",
            "3628800\n"
          ],
          "name": "stdout"
        }
      ]
    },
    {
      "cell_type": "code",
      "metadata": {
        "id": "4TEOxXUraj94",
        "colab_type": "code",
        "outputId": "74f34bc5-ee7e-43da-bcde-9127585c7dfc",
        "colab": {
          "base_uri": "https://localhost:8080/",
          "height": 68
        }
      },
      "source": [
        "amit = [1,2,3,4,5]\n",
        "print(amit[-5])\n",
        "print(amit[-1])\n",
        "print(amit[0])"
      ],
      "execution_count": 0,
      "outputs": [
        {
          "output_type": "stream",
          "text": [
            "1\n",
            "5\n",
            "1\n"
          ],
          "name": "stdout"
        }
      ]
    },
    {
      "cell_type": "code",
      "metadata": {
        "id": "ovZzeW0ImG_0",
        "colab_type": "code",
        "colab": {}
      },
      "source": [
        "letters = ['a','b','c','d']"
      ],
      "execution_count": 0,
      "outputs": []
    },
    {
      "cell_type": "code",
      "metadata": {
        "id": "ii9et_jolnAv",
        "colab_type": "code",
        "colab": {}
      },
      "source": [
        "a=letters[:3]\n"
      ],
      "execution_count": 0,
      "outputs": []
    },
    {
      "cell_type": "code",
      "metadata": {
        "id": "PH4ZHHgNn5oC",
        "colab_type": "code",
        "outputId": "b3ca5926-683c-4da2-fc01-3cc38c583fd1",
        "colab": {
          "base_uri": "https://localhost:8080/",
          "height": 34
        }
      },
      "source": [
        "print(a)"
      ],
      "execution_count": 0,
      "outputs": [
        {
          "output_type": "stream",
          "text": [
            "['a', 'b', 'c']\n"
          ],
          "name": "stdout"
        }
      ]
    },
    {
      "cell_type": "code",
      "metadata": {
        "id": "7jW5PXbhmjLX",
        "colab_type": "code",
        "outputId": "f803215b-2db5-4891-f4d9-f949d16d3bfb",
        "colab": {
          "base_uri": "https://localhost:8080/",
          "height": 34
        }
      },
      "source": [
        "letters[3:]"
      ],
      "execution_count": 0,
      "outputs": [
        {
          "output_type": "execute_result",
          "data": {
            "text/plain": [
              "['d']"
            ]
          },
          "metadata": {
            "tags": []
          },
          "execution_count": 28
        }
      ]
    },
    {
      "cell_type": "code",
      "metadata": {
        "id": "WgG3ynlINtsD",
        "colab_type": "code",
        "colab": {}
      },
      "source": [
        ""
      ],
      "execution_count": 0,
      "outputs": []
    }
  ]
}